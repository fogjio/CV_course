{
 "cells": [
  {
   "cell_type": "code",
   "execution_count": 1,
   "metadata": {},
   "outputs": [],
   "source": [
    "import cv2\n",
    "import numpy as np\n",
    "import matplotlib.pyplot as plt\n",
    "import math as m\n",
    "import random\n",
    "import copy"
   ]
  },
  {
   "cell_type": "code",
   "execution_count": 2,
   "metadata": {},
   "outputs": [
    {
     "name": "stdout",
     "output_type": "stream",
     "text": [
      "(124, 143, 3)\n"
     ]
    }
   ],
   "source": [
    "#Translation     利用平移矩阵和cv2.warpAffine函数进行平移操作\n",
    "'''\n",
    "viod cv2::warpAffine(\n",
    "        inputArray   image\n",
    "        outputArray  dst\n",
    "        intputArray  Matrix\n",
    "        Size         (col, row)\n",
    "        int flags =  INTER_LINEAR                  #插值Mode\n",
    "        int borderMode = BORDER_CONSTANT           #边界像素Mode\n",
    ")\n",
    "\n",
    "'''\n",
    "img = cv2.imread('cat1.jpg')\n",
    "cv2.imshow('input image', img)\n",
    "\n",
    "row, col, ch = img.shape\n",
    "print (img.shape)\n",
    "M = np.float32([[1,0,50], [0,1,50]])    #注意这里一定要是np.float32 不能是np.array\n",
    "dst = cv2.warpAffine(img, M, (col, row))\n",
    "\n",
    "cv2.imshow('output image', dst)\n",
    "key = cv2.waitKey()\n",
    "if key == 27:\n",
    "    cv2.destroyAllWindows()"
   ]
  },
  {
   "cell_type": "code",
   "execution_count": 7,
   "metadata": {},
   "outputs": [
    {
     "name": "stdout",
     "output_type": "stream",
     "text": [
      "[[ 0.8660254  0.5        0.       ]\n",
      " [-0.5        0.8660254  0.       ]]\n"
     ]
    }
   ],
   "source": [
    "M = cv2.getRotationMatrix2D((0,0),30, 1)\n",
    "print(M)\n"
   ]
  },
  {
   "cell_type": "code",
   "execution_count": 6,
   "metadata": {},
   "outputs": [
    {
     "name": "stdout",
     "output_type": "stream",
     "text": [
      "[[ 0.866  0.5   62.   ]\n",
      " [-0.5    0.866 71.5  ]]\n"
     ]
    }
   ],
   "source": [
    "#Rotation\n",
    "'''\n",
    "通过生成的旋转矩阵和库函数进行旋转操作\n",
    "'''\n",
    "img = cv2.imread('cat1.jpg')\n",
    "cv2.imshow('input image', img)\n",
    "#M = cv2.getRotationMatrix2D((col/2, row/2), 30, 1)\n",
    "M = np.float32([[0.866, 0.5, img.shape[0]/2], [-0.5, 0.866, img.shape[1]/2]])\n",
    "print(M)\n",
    "#dst = cv2.warpAffine(img, M, (col*2, row*2))\n",
    "dst = cv2.warpAffine(img, M, (col, row))\n",
    "\n",
    "cv2.imshow('output image', dst)\n",
    "key = cv2.waitKey()\n",
    "if key == 27:\n",
    "    cv2.destroyAllWindows()"
   ]
  },
  {
   "cell_type": "code",
   "execution_count": 14,
   "metadata": {},
   "outputs": [],
   "source": [
    "#图像映射  \n",
    "'''\n",
    "需要选出原图中的3个坐标点和对应的映射点，整幅图片将根据上述映射关系变换\n",
    "'''\n",
    "img = cv2.imread('cat1.jpg')\n",
    "cv2.imshow('input image', img)\n",
    "\n",
    "pts1 = np.float32([[20,20],[100,95], [50, 30]])       #映射前原图上找出三个点\n",
    "pts2 = np.float32([[20,40],[100,90], [100, 5]])       #上述3个点对应映射后的位置\n",
    "\n",
    "M = cv2.getAffineTransform(pts1, pts2)\n",
    "dst = cv2.warpAffine(img, M, (col, row), cv2.INTER_LINEAR)\n",
    "\n",
    "cv2.imshow('output image', dst)\n",
    "key = cv2.waitKey()\n",
    "if key == 27:\n",
    "    cv2.destroyAllWindows()"
   ]
  },
  {
   "cell_type": "code",
   "execution_count": 49,
   "metadata": {},
   "outputs": [
    {
     "name": "stdout",
     "output_type": "stream",
     "text": [
      "(271, 960, 3)\n"
     ]
    }
   ],
   "source": [
    "#投影/透视变换\n",
    "#cv2.warpPerspective()\n",
    "src = cv2.imread('111.png')\n",
    "print (src.shape)\n",
    "src_points = np.array([[165., 270.], [835., 270.], [360., 125.], [615., 125.]], dtype = \"float32\")\n",
    "dst_points = np.array([[165., 270.], [835., 270.], [165., 30.], [835., 30.]], dtype = \"float32\")\n",
    "\n",
    "M = cv2.getPerspectiveTransform(src_points, dst_points)\n",
    "perspective = cv2.warpPerspective(src, M, (960, 270), cv2.INTER_LINEAR);\n",
    "        \n",
    "cv2.imshow('out',perspective)\n",
    "key = cv2.waitKey()\n",
    "if key == 27:\n",
    "    cv2.destroyAllWindows()"
   ]
  },
  {
   "cell_type": "code",
   "execution_count": 42,
   "metadata": {},
   "outputs": [
    {
     "name": "stdout",
     "output_type": "stream",
     "text": [
      "[227 237 237]\n"
     ]
    }
   ],
   "source": [
    "print(img[-50,50])"
   ]
  },
  {
   "cell_type": "code",
   "execution_count": 22,
   "metadata": {},
   "outputs": [
    {
     "name": "stdout",
     "output_type": "stream",
     "text": [
      "249,367\n",
      "29,561\n",
      "1099,575\n",
      "879,372\n",
      "51,43\n",
      "34,560\n",
      "1106,575\n",
      "1089,34\n"
     ]
    }
   ],
   "source": [
    "#自己选择4个点进行投射变换\n",
    "import cv2\n",
    "import numpy as np\n",
    "\n",
    "img = cv2.imread(\"chumoping.png\")\n",
    "#print img.shape\n",
    "set_point = []\n",
    "\n",
    "i = 1\n",
    "def on_EVENT_LBUTTONDOWN(event, x, y, flags, param):\n",
    "    if event == cv2.EVENT_LBUTTONDOWN:\n",
    "        xy = \"%d,%d\" % (x, y)\n",
    "        print (xy)\n",
    "        temp = [x,y]\n",
    "        set_point.append(temp)\n",
    "        '''此处在图像上点击8个点，每四个作为一组'''\n",
    "        cv2.circle(img, (x, y), 1, (255, 0, 0), thickness = -1)\n",
    "        cv2.putText(img, xy, (x, y), cv2.FONT_HERSHEY_PLAIN,\n",
    "                    1.0, (0,0,0), thickness = 1)\n",
    "        cv2.imshow(\"image\", img)\n",
    "\n",
    "\n",
    "\n",
    "cv2.namedWindow(\"image\")\n",
    "cv2.setMouseCallback(\"image\", on_EVENT_LBUTTONDOWN)\n",
    "cv2.imshow(\"image\", img)\n",
    "\n",
    "\n",
    "\n",
    "key = cv2.waitKey()\n",
    "if key == 27:\n",
    "    cv2.destroyAllWindows()\n"
   ]
  },
  {
   "cell_type": "code",
   "execution_count": 24,
   "metadata": {
    "scrolled": true
   },
   "outputs": [],
   "source": [
    "#print (len(set_point))8\n",
    "source = set_point[0:4]\n",
    "target = set_point[4:8]\n",
    "\n",
    "src = cv2.imread(\"chumoping.png\")\n",
    "cv2.imshow('input', src)\n",
    "row, col, ch = src.shape\n",
    "src_points = np.array(source, dtype = \"float32\")\n",
    "dst_points = np.array(target, dtype = \"float32\")\n",
    "M = cv2.getPerspectiveTransform(src_points, dst_points)\n",
    "\n",
    "dst = cv2.warpPerspective(src, M, (col, row), cv2.INTER_LINEAR)\n",
    "\n",
    "cv2.imshow('out',dst)\n",
    "key = cv2.waitKey()\n",
    "if key == 27:\n",
    "    cv2.destroyAllWindows()"
   ]
  },
  {
   "cell_type": "code",
   "execution_count": 57,
   "metadata": {},
   "outputs": [
    {
     "name": "stdout",
     "output_type": "stream",
     "text": [
      "asdasdasd\n",
      "asdasdasd\n"
     ]
    }
   ],
   "source": [
    "for i in range(2):\n",
    "    cv2.setMouseCallback(\"image\", on_EVENT_LBUTTONDOWN)\n",
    "    print('asdasdasd')"
   ]
  },
  {
   "cell_type": "code",
   "execution_count": 21,
   "metadata": {},
   "outputs": [
    {
     "name": "stdout",
     "output_type": "stream",
     "text": [
      "[[-42.  24.]\n",
      " [ 86.  57.]\n",
      " [132.  63.]\n",
      " [ 19. 121.]]\n",
      "[[ 45. -45.]\n",
      " [112.  46.]\n",
      " [ 96.  69.]\n",
      " [-58. 115.]]\n"
     ]
    }
   ],
   "source": [
    "def random_warp(img, row, col):\n",
    "    height, width, channels = img.shape\n",
    "\n",
    "    # warp:\n",
    "    random_margin = 60\n",
    "    x1 = random.randint(-random_margin, random_margin)\n",
    "    y1 = random.randint(-random_margin, random_margin)\n",
    "    x2 = random.randint(width - random_margin - 1, width - 1)\n",
    "    y2 = random.randint(-random_margin, random_margin)\n",
    "    x3 = random.randint(width - random_margin - 1, width - 1)\n",
    "    y3 = random.randint(height - random_margin - 1, height - 1)\n",
    "    x4 = random.randint(-random_margin, random_margin)\n",
    "    y4 = random.randint(height - random_margin - 1, height - 1)\n",
    "\n",
    "    dx1 = random.randint(-random_margin, random_margin)\n",
    "    dy1 = random.randint(-random_margin, random_margin)\n",
    "    dx2 = random.randint(width - random_margin - 1, width - 1)\n",
    "    dy2 = random.randint(-random_margin, random_margin)\n",
    "    dx3 = random.randint(width - random_margin - 1, width - 1)\n",
    "    dy3 = random.randint(height - random_margin - 1, height - 1)\n",
    "    dx4 = random.randint(-random_margin, random_margin)\n",
    "    dy4 = random.randint(height - random_margin - 1, height - 1)\n",
    "\n",
    "    pts1 = np.float32([[x1, y1], [x2, y2], [x3, y3], [x4, y4]])\n",
    "    pts2 = np.float32([[dx1, dy1], [dx2, dy2], [dx3, dy3], [dx4, dy4]])\n",
    "    print(pts1)\n",
    "    print(pts2)\n",
    "    M_warp = cv2.getPerspectiveTransform(pts1, pts2)\n",
    "    img_warp = cv2.warpPerspective(img, M_warp, (width, height))\n",
    "    return M_warp, img_warp\n",
    "M_warp, img_warp = random_warp(img, img.shape[0], img.shape[1])\n",
    "cv2.imshow('output', img_warp)\n",
    "key = cv2.waitKey(0)\n",
    "if key == 27:\n",
    "    cv2.destroyAllWindows()"
   ]
  },
  {
   "cell_type": "code",
   "execution_count": 5,
   "metadata": {},
   "outputs": [],
   "source": [
    "#镜像\n",
    "\n",
    "img = cv2.imread('shiguanzhang.png')\n",
    "cv2.imshow('input', img)\n",
    "\n",
    "size = img.shape\n",
    "#print(size)   (430, 764, 3)\n",
    "\n",
    "iLR = copy.deepcopy(img)           #获得一个和原始图像相同的图像，注意这里要使用深度复制\n",
    "h = size[0]\n",
    "w = size[1]\n",
    "\n",
    "for row in range(h):\n",
    "    for col in range(w):\n",
    "        iLR[h-row-1, w-col-1] = img[row, col]\n",
    "\n",
    "cv2.imshow('output', iLR)\n",
    "key = cv2.waitKey(0)\n",
    "if key == 27:\n",
    "    cv2.destroyAllWindows()"
   ]
  },
  {
   "cell_type": "code",
   "execution_count": null,
   "metadata": {},
   "outputs": [],
   "source": []
  }
 ],
 "metadata": {
  "kernelspec": {
   "display_name": "Python 3",
   "language": "python",
   "name": "python3"
  },
  "language_info": {
   "codemirror_mode": {
    "name": "ipython",
    "version": 3
   },
   "file_extension": ".py",
   "mimetype": "text/x-python",
   "name": "python",
   "nbconvert_exporter": "python",
   "pygments_lexer": "ipython3",
   "version": "3.7.3"
  }
 },
 "nbformat": 4,
 "nbformat_minor": 2
}
