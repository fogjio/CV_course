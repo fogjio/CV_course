{
 "cells": [
  {
   "cell_type": "code",
   "execution_count": 2,
   "metadata": {},
   "outputs": [],
   "source": [
    "import cv2\n",
    "import random\n",
    "import numpy as np\n",
    "from matplotlib import pyplot as plt"
   ]
  },
  {
   "cell_type": "code",
   "execution_count": 2,
   "metadata": {},
   "outputs": [],
   "source": [
    "img_gray = cv2.imread('cat1.jpg',0)\n",
    "cv2.imshow('cat', img_gray)\n",
    "key = cv2.waitKey()\n",
    "if key == 27:\n",
    "    cv2.destroyAllWindows()"
   ]
  },
  {
   "cell_type": "code",
   "execution_count": 5,
   "metadata": {},
   "outputs": [
    {
     "name": "stdout",
     "output_type": "stream",
     "text": [
      "uint8\n"
     ]
    }
   ],
   "source": [
    "print (img_gray.dtype)"
   ]
  },
  {
   "cell_type": "code",
   "execution_count": 6,
   "metadata": {},
   "outputs": [
    {
     "name": "stdout",
     "output_type": "stream",
     "text": [
      "(124, 143)\n"
     ]
    }
   ],
   "source": [
    "print (img_gray.shape)"
   ]
  },
  {
   "cell_type": "code",
   "execution_count": 3,
   "metadata": {},
   "outputs": [
    {
     "name": "stdout",
     "output_type": "stream",
     "text": [
      "(124, 143, 3)\n"
     ]
    }
   ],
   "source": [
    "\n",
    "img = cv2.imread('cat1.jpg')\n",
    "cv2.imshow('cat', img)\n",
    "key = cv2.waitKey()\n",
    "\n",
    "if key == 27:\n",
    "    cv2.destroyAllWindows()\n",
    "    \n",
    "print (img.shape)"
   ]
  },
  {
   "cell_type": "code",
   "execution_count": 9,
   "metadata": {},
   "outputs": [],
   "source": [
    "#color split\n",
    "B,G,R = cv2.split(img)\n",
    "cv2.imshow('B', B)\n",
    "cv2.imshow('G', G)\n",
    "cv2.imshow('R', R)\n",
    "key = cv2.waitKey()\n",
    "\n",
    "if key == 27:\n",
    "    cv2.destroyAllWindows()"
   ]
  },
  {
   "cell_type": "code",
   "execution_count": null,
   "metadata": {},
   "outputs": [],
   "source": []
  },
  {
   "cell_type": "code",
   "execution_count": 7,
   "metadata": {},
   "outputs": [
    {
     "name": "stdout",
     "output_type": "stream",
     "text": [
      "[-26, -50, -34, 14, 35, 42, -31, -46, 42, 42, -30, -43, 16, -13, -7, 4, -12, -4, -18, 46, -40, -46, -37, -47, 49, 50, 35, 22, -10, 47, 37, 14, 14, -18, 33, 37, 44, -46, -41, -18, 21, -26, -2, -27, 37, -49, -15, 47, 36, 4]\n"
     ]
    }
   ],
   "source": [
    "lista = []\n",
    "for i in range(50):\n",
    "    b_rand = random.randint(-50, 50)\n",
    "    lista.append(b_rand)\n",
    "print(lista)"
   ]
  },
  {
   "cell_type": "code",
   "execution_count": 4,
   "metadata": {},
   "outputs": [],
   "source": [
    "def random_light_color(img):\n",
    "    B, G, R = cv2.split(img)\n",
    "    b_rand = random.randint(-50, 50)\n",
    "    if b_rand == 0:\n",
    "        pass\n",
    "    elif b_rand > 0:\n",
    "        lim = 255 - b_rand\n",
    "        B[B > lim] = 255\n",
    "        B[B <= lim] = (b_rand + B[B <= lim]).astype(img.dtype)\n",
    "    elif b_rand < 0:\n",
    "        lim = 0 - b_rand\n",
    "        B[B < lim] = 0\n",
    "        B[B >= lim] = (b_rand + B[B >= lim]).astype(img.dtype)\n",
    "        \n",
    "    g_rand = random.randint(-50, 50)\n",
    "    if g_rand == 0:\n",
    "        pass\n",
    "    elif g_rand > 0:\n",
    "        lim = 255 - g_rand\n",
    "        G[G > lim] = 255\n",
    "        G[G <= lim] = (g_rand + G[G <= lim]).astype(img.dtype)\n",
    "    elif g_rand < 0:\n",
    "        lim = 0 - g_rand\n",
    "        G[G < lim] = 0\n",
    "        G[G >= lim] = (g_rand + G[G >= lim]).astype(img.dtype)\n",
    "        \n",
    "    r_rand = random.randint(-50, 50)\n",
    "    if r_rand == 0:\n",
    "        pass\n",
    "    elif r_rand > 0:\n",
    "        lim = 255 - r_rand\n",
    "        R[R > lim] = 255\n",
    "        R[R <= lim] = (r_rand + R[R <= lim]).astype(img.dtype)\n",
    "    elif r_rand < 0:\n",
    "        lim = 0 - r_rand\n",
    "        R[R < lim] = 0\n",
    "        R[R >= lim] = (r_rand + R[R >= lim]).astype(img.dtype)\n",
    "    \n",
    "    img_merge = cv2.merge((B, G, R))\n",
    "    return img_merge"
   ]
  },
  {
   "cell_type": "code",
   "execution_count": 5,
   "metadata": {},
   "outputs": [],
   "source": [
    "img_recolor = random_light_color(img)\n",
    "cv2.imshow('recolor', img_recolor)\n",
    "key = cv2.waitKey()\n",
    "if key == 27:\n",
    "    cv2.destroyAllWindows()\n",
    "    "
   ]
  },
  {
   "cell_type": "code",
   "execution_count": 2,
   "metadata": {},
   "outputs": [
    {
     "name": "stdout",
     "output_type": "stream",
     "text": [
      "[  0  29  47  59  69  77  83  89  94  99 103 106 110 113 116 119 121 124\n",
      " 126 128 130 132 134 136 138 140 141 143 144 146 147 149 150 151 152 154\n",
      " 155 156 157 158 159 160 161 162 163 164 165 166 167 168 169 169 170 171\n",
      " 172 173 173 174 175 176 176 177 178 178 179 180 180 181 182 182 183 183\n",
      " 184 185 185 186 186 187 187 188 188 189 190 190 191 191 192 192 193 193\n",
      " 193 194 194 195 195 196 196 197 197 198 198 198 199 199 200 200 200 201\n",
      " 201 202 202 202 203 203 204 204 204 205 205 205 206 206 206 207 207 207\n",
      " 208 208 208 209 209 209 210 210 210 211 211 211 212 212 212 213 213 213\n",
      " 213 214 214 214 215 215 215 216 216 216 216 217 217 217 217 218 218 218\n",
      " 219 219 219 219 220 220 220 220 221 221 221 221 222 222 222 222 223 223\n",
      " 223 223 224 224 224 224 224 225 225 225 225 226 226 226 226 226 227 227\n",
      " 227 227 228 228 228 228 228 229 229 229 229 229 230 230 230 230 230 231\n",
      " 231 231 231 231 232 232 232 232 232 233 233 233 233 233 234 234 234 234\n",
      " 234 234 235 235 235 235 235 236 236 236 236 236 236 237 237 237 237 237\n",
      " 237 238 238 238]\n"
     ]
    }
   ],
   "source": [
    "# log correction \n",
    "\n",
    "img_dark = cv2.imread('heian.png')\n",
    "cv2.imshow('image_dark',img_dark)\n",
    "#为了保证快速，建立一个table list存储每个像素值的结果   \n",
    "\n",
    "def adjust_log(image, dc = 43):\n",
    "    table = []\n",
    "    lim = 255\n",
    "    for i in range(0,256):\n",
    "        temp = dc * np.log(i + 1)\n",
    "        table.append(temp)\n",
    "    \n",
    "    table = np.array(table)\n",
    "    table[table > lim] = 255\n",
    "    table = table.astype('uint8')\n",
    "    print (table)\n",
    "    return cv2.LUT(img_dark, table)\n",
    "\n",
    "img_bright = adjust_log(img_dark)\n",
    "cv2.imshow('image_bright', img_bright)\n",
    "\n",
    "key = cv2.waitKey()\n",
    "if key == 27:\n",
    "    cv2.destroyAllWindows()"
   ]
  },
  {
   "cell_type": "code",
   "execution_count": 3,
   "metadata": {},
   "outputs": [],
   "source": [
    "# gamma correction \n",
    "\n",
    "img_dark = cv2.imread('shiguanzhang.png')\n",
    "cv2.imshow('image_dark',img_dark)\n",
    "#为了保证快速，建立一个table list存储每个像素值的结果   \n",
    "\n",
    "def adjust_gamma(image, gamma=1.0):\n",
    "    invGamma = 1.0/gamma\n",
    "    table = []\n",
    "    for i in range(0,256):\n",
    "        table.append(((i / 255.0) ** invGamma) * 255)\n",
    "    table = np.array(table).astype(\"uint8\")\n",
    "    return cv2.LUT(image, table)\n",
    "\n",
    "img_bright = adjust_gamma(img_dark,2)\n",
    "cv2.imshow('image_bright', img_bright)\n",
    "\n",
    "key = cv2.waitKey()\n",
    "if key == 27:\n",
    "    cv2.destroyAllWindows()"
   ]
  },
  {
   "cell_type": "code",
   "execution_count": null,
   "metadata": {},
   "outputs": [],
   "source": [
    "# resize\n",
    "img_big = cv2.resize(img, (256,256))\n",
    "cv2.imshow('resize', img_big)\n",
    "key = cv2.waitKey()\n",
    "if key == 27:\n",
    "    cv2.destroyAllWindows()"
   ]
  },
  {
   "cell_type": "code",
   "execution_count": null,
   "metadata": {},
   "outputs": [],
   "source": [
    "cv2.destroyAllWindows()"
   ]
  },
  {
   "cell_type": "code",
   "execution_count": 11,
   "metadata": {},
   "outputs": [
    {
     "data": {
      "image/png": "[encoded data removed]",
      "text/plain": [
       "<Figure size 432x288 with 1 Axes>"
      ]
     },
     "metadata": {
      "needs_background": "light"
     },
     "output_type": "display_data"
    }
   ],
   "source": [
    "\n",
    "img_dark = cv2.imread('shiguanzhang.png')\n",
    "src = cv2.resize(img_dark, (int(img_dark.shape[1] * 0.5), int(img_dark.shape[0] * 0.5)))\n",
    "cv2.imshow(\"src\", src)\n",
    "\n",
    "img_yuv = cv2.cvtColor(src, cv2.COLOR_BGR2YUV)\n",
    "img_yuv[:,:,0] = cv2.equalizeHist(img_yuv[:,:,0]) \n",
    "img_output = cv2.cvtColor(img_yuv, cv2.COLOR_YUV2BGR)\n",
    "#绘制灰度直方图\n",
    "plt.hist(img_output.flatten(), 256, [0, 256], color = 'r' )\n",
    "cv2.imshow('yuv_hist', img_output)\n",
    "key = cv2.waitKey(0)\n",
    "if key == 27:\n",
    "    cv2.destroyAllWindows()"
   ]
  },
  {
   "cell_type": "code",
   "execution_count": 4,
   "metadata": {},
   "outputs": [
    {
     "data": {
      "image/png": "[encoded data removed]",
      "text/plain": [
       "<Figure size 432x288 with 1 Axes>"
      ]
     },
     "metadata": {
      "needs_background": "light"
     },
     "output_type": "display_data"
    }
   ],
   "source": [
    "img_dark = cv2.imread('shiguanzhang.png')\n",
    "src = cv2.resize(img_dark, (int(img_dark.shape[1] * 0.5), int(img_dark.shape[0] * 0.5)))\n",
    "cv2.imshow(\"src\", src)\n",
    "#绘制灰度直方图\n",
    "\n",
    "\n",
    "src[:,:,0] = cv2.equalizeHist(src[:,:,0]) \n",
    "src[:,:,1] = cv2.equalizeHist(src[:,:,1]) \n",
    "src[:,:,2] = cv2.equalizeHist(src[:,:,2]) \n",
    "\n",
    "cv2.imshow('after merge', src)\n",
    "plt.hist(src.flatten(), 256, [0, 256], color = 'r' )\n",
    "key = cv2.waitKey(0)\n",
    "if key == 27:\n",
    "    cv2.destroyAllWindows()"
   ]
  },
  {
   "cell_type": "code",
   "execution_count": 3,
   "metadata": {},
   "outputs": [
    {
     "data": {
      "image/png": "[encoded data removed]",
      "text/plain": [
       "<Figure size 432x288 with 1 Axes>"
      ]
     },
     "metadata": {
      "needs_background": "light"
     },
     "output_type": "display_data"
    }
   ],
   "source": [
    "img_dark = cv2.resize(img_dark, (int(img_dark.shape[1]*0.5), int(img_dark.shape[0]*0.5)))\n",
    "\n",
    "img_yuv = cv2.cvtColor(img_dark, cv2.COLOR_BGR2YUV)\n",
    "# equalize the histogram of the Y channel\n",
    "img_yuv[:,:,0] = cv2.equalizeHist(img_yuv[:,:,0])   # only for 1 channel\n",
    "# convert the YUV image back to RGB format\n",
    "img_output = cv2.cvtColor(img_yuv, cv2.COLOR_YUV2BGR)   # y: luminance(明亮度), u&v: 色度饱和度\n",
    "cv2.imshow('Color input image', img_dark)\n",
    "cv2.imshow('Histogram equalized', img_output)\n",
    "plt.hist(img_output.flatten(), 256, [0, 256], color = 'r')\n",
    "key = cv2.waitKey(0)"
   ]
  },
  {
   "cell_type": "code",
   "execution_count": 16,
   "metadata": {},
   "outputs": [],
   "source": [
    "#rotation\n",
    "M = cv2.getRotationMatrix2D((src.shape[1]/2, src.shape[0]/2), 30,1)\n",
    "img_rotate = cv2.warpAffine(src, M, (src.shape[1], src.shape[0]))\n",
    "cv2.imshow('rotation', img_rotate)\n",
    "key = cv2.waitKey(0)"
   ]
  },
  {
   "cell_type": "code",
   "execution_count": 5,
   "metadata": {},
   "outputs": [
    {
     "name": "stdout",
     "output_type": "stream",
     "text": [
      "[[  0.8660254    0.5        -28.16085212]\n",
      " [ -0.5          0.8660254  109.90226909]]\n",
      "[[  0.8660254    0.5        -28.16085212]\n",
      " [ -0.5          0.8660254  109.90226909]]\n"
     ]
    }
   ],
   "source": [
    "M = cv2.getRotationMatrix2D((src.shape[1] / 2, src.shape[0] / 2), 30, 1) # center, angle, scale\n",
    "img_rotate = cv2.warpAffine(src, M, (src.shape[1], src.shape[0]))\n",
    "cv2.imshow('rotated lenna', img_rotate)\n",
    "key = cv2.waitKey(0)\n",
    "if key == 27:\n",
    "    cv2.destroyAllWindows()\n",
    "\n",
    "print(M)\n",
    "\n",
    "# set M[0][2] = M[1][2] = 0\n",
    "print(M)\n",
    "img_rotate2 = cv2.warpAffine(src, M, (src.shape[1], src.shape[0]))\n",
    "cv2.imshow('rotated lenna2', img_rotate2)\n",
    "key = cv2.waitKey(0)\n",
    "if key == 27:\n",
    "    cv2.destroyAllWindows()"
   ]
  },
  {
   "cell_type": "code",
   "execution_count": 17,
   "metadata": {},
   "outputs": [],
   "source": [
    "rows, cols, ch = src.shape\n",
    "pts1 = np.float32([[0, 0], [cols - 1, 0], [0, rows - 1]])\n",
    "pts2 = np.float32([[cols * 0.2, rows * 0.1], [cols * 0.9, rows * 0.2], [cols * 0.1, rows * 0.9]])\n",
    " \n",
    "M = cv2.getAffineTransform(pts1, pts2)\n",
    "dst = cv2.warpAffine(src, M, (cols, rows))\n",
    "\n",
    "cv2.imshow('affine lenna', dst)\n",
    "key = cv2.waitKey(0)\n",
    "if key == 27:\n",
    "    cv2.destroyAllWindows()"
   ]
  },
  {
   "cell_type": "code",
   "execution_count": 14,
   "metadata": {},
   "outputs": [],
   "source": [
    "def random_warp(img, row, col):\n",
    "    height, width, channels = img.shape\n",
    "\n",
    "    # warp:\n",
    "    random_margin = 60\n",
    "    x1 = random.randint(-random_margin, random_margin)\n",
    "    y1 = random.randint(-random_margin, random_margin)\n",
    "    x2 = random.randint(width - random_margin - 1, width - 1)\n",
    "    y2 = random.randint(-random_margin, random_margin)\n",
    "    x3 = random.randint(width - random_margin - 1, width - 1)\n",
    "    y3 = random.randint(height - random_margin - 1, height - 1)\n",
    "    x4 = random.randint(-random_margin, random_margin)\n",
    "    y4 = random.randint(height - random_margin - 1, height - 1)\n",
    "\n",
    "    dx1 = random.randint(-random_margin, random_margin)\n",
    "    dy1 = random.randint(-random_margin, random_margin)\n",
    "    dx2 = random.randint(width - random_margin - 1, width - 1)\n",
    "    dy2 = random.randint(-random_margin, random_margin)\n",
    "    dx3 = random.randint(width - random_margin - 1, width - 1)\n",
    "    dy3 = random.randint(height - random_margin - 1, height - 1)\n",
    "    dx4 = random.randint(-random_margin, random_margin)\n",
    "    dy4 = random.randint(height - random_margin - 1, height - 1)\n",
    "\n",
    "    pts1 = np.float32([[x1, y1], [x2, y2], [x3, y3], [x4, y4]])\n",
    "    pts2 = np.float32([[dx1, dy1], [dx2, dy2], [dx3, dy3], [dx4, dy4]])\n",
    "    M_warp = cv2.getPerspectiveTransform(pts1, pts2)\n",
    "    img_warp = cv2.warpPerspective(img, M_warp, (width, height))\n",
    "    return M_warp, img_warp\n",
    "M_warp, img_warp = random_warp(src, src.shape[0], src.shape[1])\n",
    "cv2.imshow('lenna_warp', img_warp)\n",
    "key = cv2.waitKey(0)\n",
    "if key == 27:\n",
    "    cv2.destroyAllWindows()"
   ]
  },
  {
   "cell_type": "code",
   "execution_count": 25,
   "metadata": {},
   "outputs": [
    {
     "name": "stdout",
     "output_type": "stream",
     "text": [
      "[[  0.8660254    0.5        -28.16085212]\n",
      " [ -0.5          0.8660254  109.90226909]]\n",
      "[[  0.8660254    0.5        -28.16085212]\n",
      " [ -0.5          0.8660254  109.90226909]]\n"
     ]
    }
   ],
   "source": [
    "#镜像尝试\n",
    "rows, cols, chs = src.shape\n",
    "#M = [[-1, 0, 0], [0, 1, 0], [cols, 0, 1]]\n",
    "#M = np.array(M)\n",
    "M = cv2.getRotationMatrix2D((src.shape[1] / 2, src.shape[0] / 2), 30, 1) # center, angle, scale\n",
    "print(M)\n",
    "img_rotate = cv2.warpAffine(src, M, (src.shape[1], src.shape[0]))\n",
    "cv2.imshow('rotated lenna', img_rotate)\n",
    "key = cv2.waitKey(0)\n",
    "if key == 27:\n",
    "    cv2.destroyAllWindows()\n",
    "\n",
    "print(M)\n",
    "\n"
   ]
  },
  {
   "cell_type": "code",
   "execution_count": 19,
   "metadata": {},
   "outputs": [],
   "source": [
    "M = [[-1, 0, 0], [0, 1, 0], [22, 0, 1]]"
   ]
  },
  {
   "cell_type": "code",
   "execution_count": 21,
   "metadata": {},
   "outputs": [
    {
     "name": "stdout",
     "output_type": "stream",
     "text": [
      "[[-1  0  0]\n",
      " [ 0  1  0]\n",
      " [99  0  1]]\n"
     ]
    }
   ],
   "source": [
    "M = np.array(M)\n",
    "M[M > 1] = 99\n",
    "print (M)"
   ]
  },
  {
   "cell_type": "code",
   "execution_count": 3,
   "metadata": {},
   "outputs": [
    {
     "ename": "TypeError",
     "evalue": "Vertically() takes 1 positional argument but 2 were given",
     "output_type": "error",
     "traceback": [
      "\u001b[1;31m---------------------------------------------------------------------------\u001b[0m",
      "\u001b[1;31mTypeError\u001b[0m                                 Traceback (most recent call last)",
      "\u001b[1;32m<ipython-input-3-129e19dcd5f2>\u001b[0m in \u001b[0;36m<module>\u001b[1;34m\u001b[0m\n\u001b[0;32m     52\u001b[0m \u001b[1;33m\u001b[0m\u001b[0m\n\u001b[0;32m     53\u001b[0m     \u001b[0mimg\u001b[0m\u001b[1;33m=\u001b[0m\u001b[0mImg\u001b[0m\u001b[1;33m(\u001b[0m\u001b[0msrc\u001b[0m\u001b[1;33m,\u001b[0m\u001b[0mrows\u001b[0m\u001b[1;33m,\u001b[0m\u001b[0mcols\u001b[0m\u001b[1;33m,\u001b[0m\u001b[1;33m[\u001b[0m\u001b[1;36m248\u001b[0m\u001b[1;33m,\u001b[0m\u001b[1;36m231\u001b[0m\u001b[1;33m]\u001b[0m\u001b[1;33m)\u001b[0m\u001b[1;33m\u001b[0m\u001b[1;33m\u001b[0m\u001b[0m\n\u001b[1;32m---> 54\u001b[1;33m     \u001b[0mimg\u001b[0m\u001b[1;33m.\u001b[0m\u001b[0mVertically\u001b[0m\u001b[1;33m(\u001b[0m\u001b[0msrc\u001b[0m\u001b[1;33m)\u001b[0m \u001b[1;31m#镜像\u001b[0m\u001b[1;33m\u001b[0m\u001b[1;33m\u001b[0m\u001b[0m\n\u001b[0m\u001b[0;32m     55\u001b[0m     \u001b[0mimg\u001b[0m\u001b[1;33m.\u001b[0m\u001b[0mProcess\u001b[0m\u001b[1;33m(\u001b[0m\u001b[0msrc\u001b[0m\u001b[1;33m)\u001b[0m\u001b[1;33m\u001b[0m\u001b[1;33m\u001b[0m\u001b[0m\n\u001b[0;32m     56\u001b[0m     '''\n",
      "\u001b[1;31mTypeError\u001b[0m: Vertically() takes 1 positional argument but 2 were given"
     ]
    }
   ],
   "source": [
    "import cv2\n",
    "import math\n",
    "import numpy as np\n",
    "\n",
    "class Img:\n",
    "    def __init__(self,image,rows,cols,center=[0,0]):\n",
    "        self.src=image #原始图像\n",
    "        self.rows=rows #原始图像的行\n",
    "        self.cols=cols #原始图像的列\n",
    "        self.center=center #旋转中心，默认是[0,0]\n",
    "\n",
    "    def Move(self,delta_x,delta_y):      #平移\n",
    "        #delta_x>0左移，delta_x<0右移\n",
    "        #delta_y>0上移，delta_y<0下移\n",
    "        self.transform=np.array([[1,0,delta_x],[0,1,delta_y],[0,0,1]])\n",
    "\n",
    "    def Zoom(self,factor):               #缩放\n",
    "        #factor>1表示缩小；factor<1表示放大\n",
    "        self.transform=np.array([[factor,0,0],[0,factor,0],[0,0,1]])\n",
    "\n",
    "    def Horizontal(self):                #水平镜像\n",
    "        self.transform=np.array([[1,0,0],[0,-1,self.cols-1],[0,0,1]])\n",
    "\n",
    "    def Vertically(self):                #垂直镜像\n",
    "        self.transform=np.array([[-1,0,self.rows-1],[0,1,0],[0,0,1]])\n",
    "\n",
    "    def Rotate(self,beta):               #旋转\n",
    "        #beta>0表示逆时针旋转；beta<0表示顺时针旋转\n",
    "        self.transform=np.array([[math.cos(beta),-math.sin(beta),0],\n",
    "                                 [math.sin(beta), math.cos(beta),0],\n",
    "                                 [    0,              0,         1]])\n",
    "\n",
    "    def Process(self):\n",
    "        self.dst=np.zeros((self.rows,self.cols),dtype=np.uint8)\n",
    "        for i in range(self.rows):\n",
    "            for j in range(self.cols):\n",
    "                src_pos=np.array([i-self.center[0],j-self.center[1],1])\n",
    "                [x,y,z]=np.dot(self.transform,src_pos)\n",
    "                x=int(x)+self.center[0]\n",
    "                y=int(y)+self.center[1]\n",
    "\n",
    "                if x>=self.rows or y>=self.cols or x<0 or y<0:\n",
    "                    self.dst[i][j]=255\n",
    "                else:\n",
    "                    self.dst[i][j]=self.src[x][y]\n",
    "\n",
    "if __name__=='__main__':\n",
    "    src=cv2.imread('cat1.jpg',0)\n",
    "    rows = src.shape[0]\n",
    "    cols = src.shape[1]\n",
    "    cv2.imshow('src', src)\n",
    "\n",
    "    img=Img(src,rows,cols,[248,231])\n",
    "    img.Vertically(src) #镜像\n",
    "    img.Process(src)\n",
    "    '''\n",
    "    img.Rotate(-math.radians(180)) #旋转\n",
    "    img.Process()\n",
    "    img.Move(-50,-50) #平移\n",
    "    img.Process()\n",
    "    img.Zoom(0.5) #缩放\n",
    "    img.Process()\n",
    "    '''\n",
    "    cv2.imshow('dst', img.dst)\n",
    "    cv2.waitKey(0)\n"
   ]
  },
  {
   "cell_type": "code",
   "execution_count": null,
   "metadata": {},
   "outputs": [],
   "source": [
    "img = cv2.imread('cat1.jpg')\n",
    "img_hor ize = cv2.flip(img,1)\n",
    "cv2.imshow('ss', img_horize)\n",
    "cv2.imshow('src', img)\n",
    "key = cv2.waitKey(0)\n",
    "if key == 27:\n",
    "    cv2.destroyAllWindows()"
   ]
  },
  {
   "cell_type": "code",
   "execution_count": null,
   "metadata": {},
   "outputs": [],
   "source": []
  }
 ],
 "metadata": {
  "kernelspec": {
   "display_name": "Python 3",
   "language": "python",
   "name": "python3"
  },
  "language_info": {
   "codemirror_mode": {
    "name": "ipython",
    "version": 3
   },
   "file_extension": ".py",
   "mimetype": "text/x-python",
   "name": "python",
   "nbconvert_exporter": "python",
   "pygments_lexer": "ipython3",
   "version": "3.7.3"
  }
 },
 "nbformat": 4,
 "nbformat_minor": 2
}
